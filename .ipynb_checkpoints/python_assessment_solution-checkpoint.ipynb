{
 "cells": [
  {
   "cell_type": "markdown",
   "id": "24e9583c-6086-468c-87ab-a7770eb14f31",
   "metadata": {},
   "source": [
    "# HFB - Python Assessment\n",
    "\n",
    "The following data is accessed for this exercise:\n",
    "\n",
    "[S1701 | Poverty Status in the Past 12 Months](https://data.census.gov/table/ACSST1Y2018.S1701?q=Income%20and%20Poverty&g=050XX00US48201&y=2018) \n",
    "\n",
    "[S1903 | Median Income in the Past 12 Months (In 2018 Inflation Adjusted Dollars)](https://data.census.gov/table/ACSST1Y2018.S1903?q=Income%20and%20Poverty&g=050XX00US48201&y=2018)\n",
    "\n",
    "API Data Links:\n",
    "\n",
    "[S1701 API Data Link](https://api.census.gov/data/2018/acs/acs1/subject?get=group(S1701)&ucgid=0500000US48201)\n",
    "\n",
    "[S1903 API Data Link](https://api.census.gov/data/2018/acs/acs1/subject?get=group(S1903)&ucgid=0500000US48201)"
   ]
  },
  {
   "cell_type": "code",
   "execution_count": 116,
   "id": "8e072dea-8e9e-43d8-a704-c3649f00dd91",
   "metadata": {},
   "outputs": [],
   "source": [
    "# Import Libraries\n",
    "from requests.auth import HTTPBasicAuth\n",
    "import requests\n",
    "import pandas as pd"
   ]
  },
  {
   "cell_type": "code",
   "execution_count": 152,
   "id": "5ed76619-d714-4a75-8b66-571427e1d376",
   "metadata": {},
   "outputs": [],
   "source": [
    "# Access Data Tables webpage \n",
    "url = 'https://api.census.gov/data/2018/acs/acs1/subject?get=group(S1701)&ucgid=0500000US48201'\n",
    "api_key = '2be6e8a1806dd9ffa2015ac7162111590ea4ed86'\n",
    "auth = HTTPBasicAuth('apikey', api_key)\n",
    "response = requests.get(url, auth=auth)\n",
    "response.raise_for_status() # Raise an exception for bad status code"
   ]
  },
  {
   "cell_type": "code",
   "execution_count": 154,
   "id": "cead46af-6593-490a-bf67-ba098ebe30ed",
   "metadata": {},
   "outputs": [],
   "source": [
    "# Assign json data to a list\n",
    "poverty_value_list = response.json()[1]"
   ]
  },
  {
   "cell_type": "code",
   "execution_count": 156,
   "id": "29c1288b-aa73-4208-ae15-f7ef80069923",
   "metadata": {},
   "outputs": [],
   "source": [
    "all_data_list = []\n",
    "for value in poverty_value_list:\n",
    "    if value != '-888888888' or value != '-888888888.0' or value != '-999999999.0' or value != '-999999999' or value != None:\n",
    "        all_data_list.append(value)"
   ]
  },
  {
   "cell_type": "code",
   "execution_count": 120,
   "id": "e9d100ab-b0ee-46e2-8ccf-d46177eafa77",
   "metadata": {},
   "outputs": [],
   "source": [
    "# Subset list for Estimat and Margin of Error Values\n",
    "all_data_list = all_data_list[2::2]\n",
    "all_data_list = all_data_list[:-1]\n",
    "# Quick check of list values\n",
    "# print(all_data_list)"
   ]
  },
  {
   "cell_type": "code",
   "execution_count": 121,
   "id": "33884641-31f4-4122-b822-f13e1fdb38d6",
   "metadata": {},
   "outputs": [],
   "source": [
    "# Quick Check of Length of each column\n",
    "# len(all_data_list) / 6\n",
    "# Table can be parsed using the following indices\n",
    "# Total: 0 - 121\n",
    "# Below Poverty Level: 122-243\n",
    "# Percent Below Poverty Level: 244 - 365"
   ]
  },
  {
   "cell_type": "code",
   "execution_count": 122,
   "id": "57d7c571-3911-41af-8ff3-5b640d850011",
   "metadata": {},
   "outputs": [],
   "source": [
    "# Create list to store data for Total, Below Poverty Level, and Percent Below Poverty Level\n",
    "total_estimate = []\n",
    "total_moe = []\n",
    "for i in range(0,122):\n",
    "    if i%2 == 0:\n",
    "        total_estimate.append(all_data_list[i])\n",
    "    else:\n",
    "        total_moe.append(all_data_list[i])\n",
    "\n",
    "bpl_estimate = []\n",
    "bpl_moe = []\n",
    "for i in range(122,244):\n",
    "    if i%2 == 0:\n",
    "        bpl_estimate.append(all_data_list[i])\n",
    "    else:\n",
    "        bpl_moe.append(all_data_list[i])\n",
    "\n",
    "pbpl_estimate = []\n",
    "pbpl_moe = []\n",
    "for i in range(244,366):\n",
    "    if i%2 == 0:\n",
    "        pbpl_estimate.append(all_data_list[i])\n",
    "    else:\n",
    "        pbpl_moe.append(all_data_list[i])"
   ]
  },
  {
   "cell_type": "code",
   "execution_count": 123,
   "id": "9ef50948-1497-4cdb-8324-a154066ca5a1",
   "metadata": {},
   "outputs": [],
   "source": [
    "# Quick extraction check: For this exercise, only te first 10 rows are required. \n",
    "# print(len(total_estimate[:10]))\n",
    "# print(len(total_moe[:10]))\n",
    "# print(len(bpl_estimate[:10]))\n",
    "# print(len(bpl_moe[:10]))\n",
    "# print(len(pbpl_estimate[:10]))\n",
    "# print(len(pbpl_moe[:10]))"
   ]
  },
  {
   "cell_type": "code",
   "execution_count": 124,
   "id": "58ddb917-2fc7-440b-9acf-d3533855d8f4",
   "metadata": {},
   "outputs": [],
   "source": [
    "# Create a dataframe to house the extracted data.  \n",
    "index_column_names = [\"Population for whom poverty status is determined\",\n",
    "                      \"AGE - Under 18 years\",\n",
    "                      \"AGE -- Under 5 years\",\n",
    "                      \"AGE -- 5 to 17 years\",\n",
    "                      \"AGE -- Related children of householder under 18 years\",\n",
    "                      \"AGE - 18 to 64 years\",\n",
    "                      \"AGE --18 to 34 years\",\n",
    "                      \"AGE--35 to 64 years\",\n",
    "                      \"AGE - 60 years and over\",\n",
    "                      \"AGE - 65 years and over\"\n",
    "                     ]\n",
    "poverty_data_dict = {'Total - Estimate': total_estimate[:10], 'Total - Margin of Error': total_moe[:10],\n",
    "                     \"Below poverty level - Estimate\": bpl_estimate[:10], \"Below poverty level - Margin of Error\": bpl_moe[:10],\n",
    "                     \"Percent Below poverty level - Estimate\": pbpl_estimate[:10], \"Percent Below poverty level - Margin of Error\": pbpl_moe[:10]}"
   ]
  },
  {
   "cell_type": "code",
   "execution_count": 125,
   "id": "150ad68a-71a7-404f-963f-c1051b23bb44",
   "metadata": {},
   "outputs": [],
   "source": [
    "poverty_data_age_df = pd.DataFrame(poverty_data_dict,\n",
    "                  index = index_column_names\n",
    "                 )"
   ]
  },
  {
   "cell_type": "code",
   "execution_count": 126,
   "id": "20806213-c407-498b-9a1c-1b093f840ca8",
   "metadata": {},
   "outputs": [
    {
     "data": {
      "text/html": [
       "<div>\n",
       "<style scoped>\n",
       "    .dataframe tbody tr th:only-of-type {\n",
       "        vertical-align: middle;\n",
       "    }\n",
       "\n",
       "    .dataframe tbody tr th {\n",
       "        vertical-align: top;\n",
       "    }\n",
       "\n",
       "    .dataframe thead th {\n",
       "        text-align: right;\n",
       "    }\n",
       "</style>\n",
       "<table border=\"1\" class=\"dataframe\">\n",
       "  <thead>\n",
       "    <tr style=\"text-align: right;\">\n",
       "      <th></th>\n",
       "      <th>Total - Estimate</th>\n",
       "      <th>Total - Margin of Error</th>\n",
       "      <th>Below poverty level - Estimate</th>\n",
       "      <th>Below poverty level - Margin of Error</th>\n",
       "      <th>Percent Below poverty level - Estimate</th>\n",
       "      <th>Percent Below poverty level - Margin of Error</th>\n",
       "    </tr>\n",
       "  </thead>\n",
       "  <tbody>\n",
       "    <tr>\n",
       "      <th>Population for whom poverty status is determined</th>\n",
       "      <td>4650812</td>\n",
       "      <td>8856</td>\n",
       "      <td>771892</td>\n",
       "      <td>31744</td>\n",
       "      <td>16.6</td>\n",
       "      <td>0.7</td>\n",
       "    </tr>\n",
       "    <tr>\n",
       "      <th>AGE - Under 18 years</th>\n",
       "      <td>1238708</td>\n",
       "      <td>3628</td>\n",
       "      <td>314646</td>\n",
       "      <td>18133</td>\n",
       "      <td>25.4</td>\n",
       "      <td>1.5</td>\n",
       "    </tr>\n",
       "    <tr>\n",
       "      <th>AGE -- Under 5 years</th>\n",
       "      <td>349669</td>\n",
       "      <td>2530</td>\n",
       "      <td>94560</td>\n",
       "      <td>8741</td>\n",
       "      <td>27.0</td>\n",
       "      <td>2.5</td>\n",
       "    </tr>\n",
       "    <tr>\n",
       "      <th>AGE -- 5 to 17 years</th>\n",
       "      <td>889039</td>\n",
       "      <td>2244</td>\n",
       "      <td>220086</td>\n",
       "      <td>12975</td>\n",
       "      <td>24.8</td>\n",
       "      <td>1.5</td>\n",
       "    </tr>\n",
       "    <tr>\n",
       "      <th>AGE -- Related children of householder under 18 years</th>\n",
       "      <td>1235313</td>\n",
       "      <td>3648</td>\n",
       "      <td>311714</td>\n",
       "      <td>18228</td>\n",
       "      <td>25.2</td>\n",
       "      <td>1.5</td>\n",
       "    </tr>\n",
       "    <tr>\n",
       "      <th>AGE - 18 to 64 years</th>\n",
       "      <td>2924003</td>\n",
       "      <td>7964</td>\n",
       "      <td>397219</td>\n",
       "      <td>16715</td>\n",
       "      <td>13.6</td>\n",
       "      <td>0.6</td>\n",
       "    </tr>\n",
       "    <tr>\n",
       "      <th>AGE --18 to 34 years</th>\n",
       "      <td>1169989</td>\n",
       "      <td>6213</td>\n",
       "      <td>181806</td>\n",
       "      <td>11084</td>\n",
       "      <td>15.5</td>\n",
       "      <td>1.0</td>\n",
       "    </tr>\n",
       "    <tr>\n",
       "      <th>AGE--35 to 64 years</th>\n",
       "      <td>1754014</td>\n",
       "      <td>2418</td>\n",
       "      <td>215413</td>\n",
       "      <td>10377</td>\n",
       "      <td>12.3</td>\n",
       "      <td>0.6</td>\n",
       "    </tr>\n",
       "    <tr>\n",
       "      <th>AGE - 60 years and over</th>\n",
       "      <td>732702</td>\n",
       "      <td>6310</td>\n",
       "      <td>90660</td>\n",
       "      <td>5819</td>\n",
       "      <td>12.4</td>\n",
       "      <td>0.8</td>\n",
       "    </tr>\n",
       "    <tr>\n",
       "      <th>AGE - 65 years and over</th>\n",
       "      <td>488101</td>\n",
       "      <td>917</td>\n",
       "      <td>60027</td>\n",
       "      <td>4940</td>\n",
       "      <td>12.3</td>\n",
       "      <td>1.0</td>\n",
       "    </tr>\n",
       "  </tbody>\n",
       "</table>\n",
       "</div>"
      ],
      "text/plain": [
       "                                                   Total - Estimate  \\\n",
       "Population for whom poverty status is determined            4650812   \n",
       "AGE - Under 18 years                                        1238708   \n",
       "AGE -- Under 5 years                                         349669   \n",
       "AGE -- 5 to 17 years                                         889039   \n",
       "AGE -- Related children of householder under 18...          1235313   \n",
       "AGE - 18 to 64 years                                        2924003   \n",
       "AGE --18 to 34 years                                        1169989   \n",
       "AGE--35 to 64 years                                         1754014   \n",
       "AGE - 60 years and over                                      732702   \n",
       "AGE - 65 years and over                                      488101   \n",
       "\n",
       "                                                   Total - Margin of Error  \\\n",
       "Population for whom poverty status is determined                      8856   \n",
       "AGE - Under 18 years                                                  3628   \n",
       "AGE -- Under 5 years                                                  2530   \n",
       "AGE -- 5 to 17 years                                                  2244   \n",
       "AGE -- Related children of householder under 18...                    3648   \n",
       "AGE - 18 to 64 years                                                  7964   \n",
       "AGE --18 to 34 years                                                  6213   \n",
       "AGE--35 to 64 years                                                   2418   \n",
       "AGE - 60 years and over                                               6310   \n",
       "AGE - 65 years and over                                                917   \n",
       "\n",
       "                                                   Below poverty level - Estimate  \\\n",
       "Population for whom poverty status is determined                           771892   \n",
       "AGE - Under 18 years                                                       314646   \n",
       "AGE -- Under 5 years                                                        94560   \n",
       "AGE -- 5 to 17 years                                                       220086   \n",
       "AGE -- Related children of householder under 18...                         311714   \n",
       "AGE - 18 to 64 years                                                       397219   \n",
       "AGE --18 to 34 years                                                       181806   \n",
       "AGE--35 to 64 years                                                        215413   \n",
       "AGE - 60 years and over                                                     90660   \n",
       "AGE - 65 years and over                                                     60027   \n",
       "\n",
       "                                                   Below poverty level - Margin of Error  \\\n",
       "Population for whom poverty status is determined                                   31744   \n",
       "AGE - Under 18 years                                                               18133   \n",
       "AGE -- Under 5 years                                                                8741   \n",
       "AGE -- 5 to 17 years                                                               12975   \n",
       "AGE -- Related children of householder under 18...                                 18228   \n",
       "AGE - 18 to 64 years                                                               16715   \n",
       "AGE --18 to 34 years                                                               11084   \n",
       "AGE--35 to 64 years                                                                10377   \n",
       "AGE - 60 years and over                                                             5819   \n",
       "AGE - 65 years and over                                                             4940   \n",
       "\n",
       "                                                   Percent Below poverty level - Estimate  \\\n",
       "Population for whom poverty status is determined                                     16.6   \n",
       "AGE - Under 18 years                                                                 25.4   \n",
       "AGE -- Under 5 years                                                                 27.0   \n",
       "AGE -- 5 to 17 years                                                                 24.8   \n",
       "AGE -- Related children of householder under 18...                                   25.2   \n",
       "AGE - 18 to 64 years                                                                 13.6   \n",
       "AGE --18 to 34 years                                                                 15.5   \n",
       "AGE--35 to 64 years                                                                  12.3   \n",
       "AGE - 60 years and over                                                              12.4   \n",
       "AGE - 65 years and over                                                              12.3   \n",
       "\n",
       "                                                   Percent Below poverty level - Margin of Error  \n",
       "Population for whom poverty status is determined                                             0.7  \n",
       "AGE - Under 18 years                                                                         1.5  \n",
       "AGE -- Under 5 years                                                                         2.5  \n",
       "AGE -- 5 to 17 years                                                                         1.5  \n",
       "AGE -- Related children of householder under 18...                                           1.5  \n",
       "AGE - 18 to 64 years                                                                         0.6  \n",
       "AGE --18 to 34 years                                                                         1.0  \n",
       "AGE--35 to 64 years                                                                          0.6  \n",
       "AGE - 60 years and over                                                                      0.8  \n",
       "AGE - 65 years and over                                                                      1.0  "
      ]
     },
     "execution_count": 126,
     "metadata": {},
     "output_type": "execute_result"
    }
   ],
   "source": [
    "poverty_data_age_df"
   ]
  },
  {
   "cell_type": "code",
   "execution_count": 127,
   "id": "79ad5b92-232d-4774-a9c7-5065ebd52e3a",
   "metadata": {},
   "outputs": [],
   "source": [
    "# Convert values from string to integer\n",
    "poverty_data_age_df['Total - Estimate'] = poverty_data_age_df['Total - Estimate'].astype(int)\n",
    "poverty_data_age_df['Total - Margin of Error'] = poverty_data_age_df['Total - Margin of Error']. astype(int)\n",
    "poverty_data_age_df['Below poverty level - Estimate'] = poverty_data_age_df['Below poverty level - Estimate'].astype(int)\n",
    "poverty_data_age_df['Below poverty level - Margin of Error'] = poverty_data_age_df['Below poverty level - Margin of Error']. astype(int)\n",
    "poverty_data_age_df['Percent Below poverty level - Estimate'] = poverty_data_age_df['Percent Below poverty level - Estimate'].astype(float)\n",
    "poverty_data_age_df['Percent Below poverty level - Margin of Error'] = poverty_data_age_df['Percent Below poverty level - Margin of Error']. astype(float)"
   ]
  },
  {
   "cell_type": "code",
   "execution_count": 128,
   "id": "3487ccd0-d71f-4cf0-8a43-3436777d9fe4",
   "metadata": {},
   "outputs": [
    {
     "name": "stdout",
     "output_type": "stream",
     "text": [
      "Harris County Poverty Data:\n",
      "Estimated number of people under the age of 18 in povery: 314646\n",
      "Estimated number of any people of any age in povery: 626360\n"
     ]
    }
   ],
   "source": [
    "# Estimate of the number of people under the age of 18 in poverty\n",
    "poverty_under_18 = poverty_data_age_df['Below poverty level - Estimate'].iloc[1]\n",
    "poverty_any_age = poverty_data_age_df['Below poverty level - Estimate'].iloc[1] + poverty_data_age_df['Below poverty level - Estimate'].iloc[4]\n",
    "print(\"Harris County Poverty Data:\")\n",
    "print(\"Estimated number of people under the age of 18 in povery: {}\".format(poverty_under_18))\n",
    "print(\"Estimated number of any people of any age in povery: {}\".format(poverty_any_age))"
   ]
  },
  {
   "cell_type": "markdown",
   "id": "0028779a-884d-4212-9926-8343c7cc754f",
   "metadata": {},
   "source": [
    "The same steps applied above can be applied for determining the estimate of the median. \n"
   ]
  },
  {
   "cell_type": "code",
   "execution_count": 142,
   "id": "94761ac1-d069-48c7-9c8d-a1054966cc74",
   "metadata": {},
   "outputs": [],
   "source": [
    "# Access Data Tables webpage \n",
    "url = 'https://api.census.gov/data/2018/acs/acs1/subject?get=group(S1903)&ucgid=0500000US48201'\n",
    "api_key = '2be6e8a1806dd9ffa2015ac7162111590ea4ed86'\n",
    "auth = HTTPBasicAuth('apikey', api_key)\n",
    "response = requests.get(url, auth=auth)\n",
    "response.raise_for_status() # Raise an exception for bad status code"
   ]
  },
  {
   "cell_type": "code",
   "execution_count": 178,
   "id": "5c45de45-053a-423b-bffc-f0db6d4087d2",
   "metadata": {},
   "outputs": [],
   "source": [
    "# Assign json data to a list\n",
    "median_value_list = response.json()[1]"
   ]
  },
  {
   "cell_type": "code",
   "execution_count": 180,
   "id": "5aab6880-cfc1-428c-b4d4-75e4b28696e7",
   "metadata": {},
   "outputs": [],
   "source": [
    "all_data_list = []\n",
    "for value in median_value_list:\n",
    "    if value != '-888888888' or value != '-888888888.0' or value != '-999999999.0' or value != '-999999999':\n",
    "        all_data_list.append(value)"
   ]
  },
  {
   "cell_type": "markdown",
   "id": "0095a3a4-e9d5-4445-b936-a19bd5b62312",
   "metadata": {},
   "source": [
    "## NOTE: \n",
    "Currently there are string values of -888888888, -888888888.0, -999999999, -999999999.0, which appear to represent the spaces between values on the table. In the previous exercise, this was able to be parsed out with the above string, however, at this time it remains even after the code is run. Adjusting the code here, should allow for continutation towards building the table to collect the estimate. "
   ]
  },
  {
   "cell_type": "code",
   "execution_count": 99,
   "id": "ed367229-664e-413a-9aaa-3d592c819672",
   "metadata": {},
   "outputs": [],
   "source": [
    "# Subset list for Estimat and Margin of Error Values\n",
    "# all_data_list = all_data_list[2::2]\n",
    "# all_data_list = all_data_list[:-1]\n",
    "# Quick check of list values\n",
    "# print(all_data_list)"
   ]
  },
  {
   "cell_type": "markdown",
   "id": "f9a7dadb-9ca3-41d3-806b-c70fe2a5ef7f",
   "metadata": {},
   "source": [
    "## NOTE: \n",
    "The index values below should be recalculated for theis specific table before going forward."
   ]
  },
  {
   "cell_type": "code",
   "execution_count": 65,
   "id": "e31655b0-8c69-4fa3-be5a-3a38c383a595",
   "metadata": {},
   "outputs": [],
   "source": [
    "# Quick Check of Length of each column\n",
    "# len(all_data_list) / 6\n",
    "# Table can be parsed using the following indices\n",
    "# Total: 0 - 121\n",
    "# Below Poverty Level: 122-243\n",
    "# Percent Below Poverty Level: 244 - 365"
   ]
  },
  {
   "cell_type": "code",
   "execution_count": null,
   "id": "7aecd34f-2dc0-4cfe-b283-c783cf8b076d",
   "metadata": {},
   "outputs": [],
   "source": [
    "# Create list to store data for Total, Below Poverty Level, and Percent Below Poverty Level\n",
    "# number_estimate = []\n",
    "# number_moe = []\n",
    "# for i in range(0,122):\n",
    "#     if i%2 == 0:\n",
    "#         number_estimate.append(all_data_list[i])\n",
    "#     else:\n",
    "#         number__moe.append(all_data_list[i])\n",
    "\n",
    "# pdist_estimate = []\n",
    "# pdist_moe = []\n",
    "# for i in range(122,244):\n",
    "#     if i%2 == 0:\n",
    "#         pdist_estimate.append(all_data_list[i])\n",
    "#     else:\n",
    "#         pdist_moe.append(all_data_list[i])\n",
    "\n",
    "# median_income_estimate = []\n",
    "# median_income_moe = []\n",
    "# for i in range(244,366):\n",
    "#     if i%2 == 0:\n",
    "#        median_income_estimate.append(all_data_list[i])\n",
    "#     else:\n",
    "#         median_income_moe.append(all_data_list[i])"
   ]
  }
 ],
 "metadata": {
  "kernelspec": {
   "display_name": "Python 3 (ipykernel)",
   "language": "python",
   "name": "python3"
  },
  "language_info": {
   "codemirror_mode": {
    "name": "ipython",
    "version": 3
   },
   "file_extension": ".py",
   "mimetype": "text/x-python",
   "name": "python",
   "nbconvert_exporter": "python",
   "pygments_lexer": "ipython3",
   "version": "3.12.4"
  }
 },
 "nbformat": 4,
 "nbformat_minor": 5
}
